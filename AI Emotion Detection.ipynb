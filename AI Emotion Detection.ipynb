{
 "cells": [
  {
   "cell_type": "markdown",
   "id": "5612ba8a",
   "metadata": {},
   "source": [
    "\n",
    "--------------------------------------------------------------------------------\n",
    "Script Name: AI Emotion Detection.ipynb\n",
    "Author: Dr. Azad Rasul\n",
    "Year: 2025\n",
    "Email: azad.rasul@soran.edu.iq\n",
    "--------------------------------------------------------------------------------\n"
   ]
  },
  {
   "cell_type": "code",
   "execution_count": null,
   "id": "17714dcd",
   "metadata": {},
   "outputs": [],
   "source": [
    "!pip install opencv-python\n",
    "!pip install fer\n",
    "!conda install -c conda-forge moviepy"
   ]
  },
  {
   "cell_type": "code",
   "execution_count": null,
   "id": "c80de2a6",
   "metadata": {},
   "outputs": [],
   "source": [
    "import cv2\n",
    "from fer import FER\n",
    "import moviepy.editor as mp\n",
    "\n",
    "detector = FER()\n",
    "cap = cv2.VideoCapture(0)\n",
    "\n",
    "while True:\n",
    "    ret, frame = cap.read()\n",
    "    if not ret:\n",
    "        break\n",
    "    \n",
    "    # Detect emotions\n",
    "    result = detector.detect_emotions(frame)\n",
    "    \n",
    "    # Draw bounding boxes and labels\n",
    "    for face in result:\n",
    "        x, y, w, h = face[\"box\"]\n",
    "        emotion = max(face[\"emotions\"], key=face[\"emotions\"].get)\n",
    "        cv2.rectangle(frame, (x, y), (x+w, y+h), (0, 255, 0), 2)\n",
    "        cv2.putText(frame, f\"{emotion}\", (x, y-10), cv2.FONT_HERSHEY_SIMPLEX, 0.9, (36,255,12), 2)\n",
    "    \n",
    "    cv2.imshow(\"Emotion Detection\", frame)\n",
    "    if cv2.waitKey(1) & 0xFF == ord('q'):\n",
    "        break\n",
    "\n",
    "cap.release()\n",
    "cv2.destroyAllWindows()"
   ]
  }
 ],
 "metadata": {
  "kernelspec": {
   "display_name": "Python (tf-gpu)",
   "language": "python",
   "name": "tf-gpu"
  },
  "language_info": {
   "codemirror_mode": {
    "name": "ipython",
    "version": 3
   },
   "file_extension": ".py",
   "mimetype": "text/x-python",
   "name": "python",
   "nbconvert_exporter": "python",
   "pygments_lexer": "ipython3",
   "version": "3.9.15"
  }
 },
 "nbformat": 4,
 "nbformat_minor": 5
}
